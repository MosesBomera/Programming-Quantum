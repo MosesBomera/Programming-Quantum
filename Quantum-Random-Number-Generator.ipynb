{
 "cells": [
  {
   "cell_type": "markdown",
   "metadata": {},
   "source": [
    "## Quantum Random Number Generator"
   ]
  },
  {
   "cell_type": "markdown",
   "metadata": {},
   "source": [
    "Generating a truly random bit using a CPU powered computer is impossible, given that the state of a memory and the Psuedo Random Number Generator algorithm can used to predict the ouput bit. With, Quantum, however, it is real."
   ]
  },
  {
   "cell_type": "code",
   "execution_count": 17,
   "metadata": {},
   "outputs": [],
   "source": [
    "from qiskit import QuantumCircuit, QuantumRegister, ClassicalRegister, execute, Aer, IBMQ, BasicAer\n",
    "import math\n",
    "# %matplotlib inline"
   ]
  },
  {
   "cell_type": "markdown",
   "metadata": {},
   "source": [
    "### Random Bit"
   ]
  },
  {
   "cell_type": "code",
   "execution_count": 18,
   "metadata": {},
   "outputs": [],
   "source": [
    "# Setup\n",
    "reg = QuantumRegister(1, name='reg')\n",
    "reg_c = ClassicalRegister(1, name='regc')\n",
    "qc = QuantumCircuit(reg, reg_c)"
   ]
  },
  {
   "cell_type": "code",
   "execution_count": 19,
   "metadata": {},
   "outputs": [
    {
     "data": {
      "text/plain": [
       "<qiskit.circuit.instructionset.InstructionSet at 0x7f229582b510>"
      ]
     },
     "execution_count": 19,
     "metadata": {},
     "output_type": "execute_result"
    }
   ],
   "source": [
    "qc.reset(reg)          # Write the value 0\n",
    "qc.h(reg)              # Creates a superposition of 0 and 1\n",
    "qc.measure(reg, reg_c) # Readout"
   ]
  },
  {
   "cell_type": "code",
   "execution_count": 20,
   "metadata": {},
   "outputs": [],
   "source": [
    "backend = BasicAer.get_backend('statevector_simulator')\n",
    "job = execute(qc, backend)\n",
    "result = job.result()"
   ]
  },
  {
   "cell_type": "code",
   "execution_count": 21,
   "metadata": {},
   "outputs": [
    {
     "name": "stdout",
     "output_type": "stream",
     "text": [
      "counts: {'0': 1}\n"
     ]
    }
   ],
   "source": [
    "counts = result.get_counts(qc)\n",
    "print('counts:', counts)"
   ]
  },
  {
   "cell_type": "code",
   "execution_count": 22,
   "metadata": {},
   "outputs": [
    {
     "name": "stdout",
     "output_type": "stream",
     "text": [
      "[1.+0.j 0.+0.j]\n"
     ]
    }
   ],
   "source": [
    "outputscale = result.get_statevector(qc, decimals=3)\n",
    "print(outputscale)"
   ]
  },
  {
   "cell_type": "code",
   "execution_count": 23,
   "metadata": {},
   "outputs": [
    {
     "data": {
      "text/html": [
       "<pre style=\"word-wrap: normal;white-space: pre;background: #fff0;line-height: 1.1;font-family: &quot;Courier New&quot;,Courier,monospace\">               ┌───┐┌─┐\n",
       "reg_0: |0>─|0>─┤ H ├┤M├\n",
       "               └───┘└╥┘\n",
       "regc_0: 0 ═══════════╩═\n",
       "                       </pre>"
      ],
      "text/plain": [
       "<qiskit.visualization.text.TextDrawing at 0x7f2295976690>"
      ]
     },
     "execution_count": 23,
     "metadata": {},
     "output_type": "execute_result"
    }
   ],
   "source": [
    "qc.draw()"
   ]
  },
  {
   "cell_type": "markdown",
   "metadata": {},
   "source": [
    "Not the circuit I was expecting, but good enough."
   ]
  },
  {
   "cell_type": "markdown",
   "metadata": {},
   "source": [
    "### A Random Byte"
   ]
  },
  {
   "cell_type": "code",
   "execution_count": 39,
   "metadata": {},
   "outputs": [],
   "source": [
    "reg = QuantumRegister(8, name='reg')\n",
    "reg_c = ClassicalRegister(8, name='regc')\n",
    "qc = QuantumCircuit(reg, reg_c)"
   ]
  },
  {
   "cell_type": "code",
   "execution_count": 40,
   "metadata": {},
   "outputs": [
    {
     "data": {
      "text/plain": [
       "<qiskit.circuit.instructionset.InstructionSet at 0x7f229534ddd0>"
      ]
     },
     "execution_count": 40,
     "metadata": {},
     "output_type": "execute_result"
    }
   ],
   "source": [
    "qc.reset(reg)           # operates on all the eight gates\n",
    "qc.h(reg)               # superposition (0 and 1)\n",
    "qc.measure(reg, reg_c)  # the outpit digital bit"
   ]
  },
  {
   "cell_type": "code",
   "execution_count": 41,
   "metadata": {},
   "outputs": [],
   "source": [
    "backend = BasicAer.get_backend('statevector_simulator')\n",
    "job = execute(qc, backend)\n",
    "result = job.result()"
   ]
  },
  {
   "cell_type": "code",
   "execution_count": 42,
   "metadata": {},
   "outputs": [],
   "source": [
    "counts = result.get_counts(qc)"
   ]
  },
  {
   "cell_type": "code",
   "execution_count": 44,
   "metadata": {},
   "outputs": [
    {
     "data": {
      "text/plain": [
       "{'10011110': 1}"
      ]
     },
     "execution_count": 44,
     "metadata": {},
     "output_type": "execute_result"
    }
   ],
   "source": [
    "counts # Run it a couple of times and got the same byte each time."
   ]
  },
  {
   "cell_type": "code",
   "execution_count": 45,
   "metadata": {},
   "outputs": [
    {
     "data": {
      "text/html": [
       "<pre style=\"word-wrap: normal;white-space: pre;background: #fff0;line-height: 1.1;font-family: &quot;Courier New&quot;,Courier,monospace\">               ┌───┐┌─┐                     \n",
       "reg_0: |0>─|0>─┤ H ├┤M├─────────────────────\n",
       "               ├───┤└╥┘┌─┐                  \n",
       "reg_1: |0>─|0>─┤ H ├─╫─┤M├──────────────────\n",
       "               ├───┤ ║ └╥┘┌─┐               \n",
       "reg_2: |0>─|0>─┤ H ├─╫──╫─┤M├───────────────\n",
       "               ├───┤ ║  ║ └╥┘┌─┐            \n",
       "reg_3: |0>─|0>─┤ H ├─╫──╫──╫─┤M├────────────\n",
       "               ├───┤ ║  ║  ║ └╥┘┌─┐         \n",
       "reg_4: |0>─|0>─┤ H ├─╫──╫──╫──╫─┤M├─────────\n",
       "               ├───┤ ║  ║  ║  ║ └╥┘┌─┐      \n",
       "reg_5: |0>─|0>─┤ H ├─╫──╫──╫──╫──╫─┤M├──────\n",
       "               ├───┤ ║  ║  ║  ║  ║ └╥┘┌─┐   \n",
       "reg_6: |0>─|0>─┤ H ├─╫──╫──╫──╫──╫──╫─┤M├───\n",
       "               ├───┤ ║  ║  ║  ║  ║  ║ └╥┘┌─┐\n",
       "reg_7: |0>─|0>─┤ H ├─╫──╫──╫──╫──╫──╫──╫─┤M├\n",
       "               └───┘ ║  ║  ║  ║  ║  ║  ║ └╥┘\n",
       "regc_0: 0 ═══════════╩══╬══╬══╬══╬══╬══╬══╬═\n",
       "                        ║  ║  ║  ║  ║  ║  ║ \n",
       "regc_1: 0 ══════════════╩══╬══╬══╬══╬══╬══╬═\n",
       "                           ║  ║  ║  ║  ║  ║ \n",
       "regc_2: 0 ═════════════════╩══╬══╬══╬══╬══╬═\n",
       "                              ║  ║  ║  ║  ║ \n",
       "regc_3: 0 ════════════════════╩══╬══╬══╬══╬═\n",
       "                                 ║  ║  ║  ║ \n",
       "regc_4: 0 ═══════════════════════╩══╬══╬══╬═\n",
       "                                    ║  ║  ║ \n",
       "regc_5: 0 ══════════════════════════╩══╬══╬═\n",
       "                                       ║  ║ \n",
       "regc_6: 0 ═════════════════════════════╩══╬═\n",
       "                                          ║ \n",
       "regc_7: 0 ════════════════════════════════╩═\n",
       "                                            </pre>"
      ],
      "text/plain": [
       "<qiskit.visualization.text.TextDrawing at 0x7f229584d6d0>"
      ]
     },
     "execution_count": 45,
     "metadata": {},
     "output_type": "execute_result"
    }
   ],
   "source": [
    "qc.draw()"
   ]
  },
  {
   "cell_type": "code",
   "execution_count": null,
   "metadata": {},
   "outputs": [],
   "source": []
  }
 ],
 "metadata": {
  "kernelspec": {
   "display_name": "Python 3",
   "language": "python",
   "name": "python3"
  },
  "language_info": {
   "codemirror_mode": {
    "name": "ipython",
    "version": 3
   },
   "file_extension": ".py",
   "mimetype": "text/x-python",
   "name": "python",
   "nbconvert_exporter": "python",
   "pygments_lexer": "ipython3",
   "version": "3.7.5"
  }
 },
 "nbformat": 4,
 "nbformat_minor": 2
}
